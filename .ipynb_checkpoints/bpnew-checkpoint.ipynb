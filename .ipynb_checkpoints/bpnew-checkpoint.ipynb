{
 "cells": [
  {
   "cell_type": "code",
   "execution_count": 1,
   "metadata": {},
   "outputs": [],
   "source": [
    "import numpy as np"
   ]
  },
  {
   "cell_type": "code",
   "execution_count": 2,
   "metadata": {},
   "outputs": [],
   "source": [
    "# Features\n",
    "x = np.array([\n",
    "    [-1, -1],\n",
    "    [-1, 1],\n",
    "    [1, -1],\n",
    "    [1, 1]\n",
    "])\n",
    "\n",
    "# Target\n",
    "y = np.array([-1, 1, 1, -1])\n",
    "alpha = 0.01\n",
    "epoch = 1"
   ]
  },
  {
   "cell_type": "code",
   "execution_count": 3,
   "metadata": {},
   "outputs": [],
   "source": [
    "# Initialization of weights (input layer)\n",
    "a = -0.5\n",
    "b = 0.5\n",
    "wij_1 = (b - a) * np.random.random_sample((3,1)) + a\n",
    "wij_2 = (b - a) * np.random.random_sample((3,1)) + a\n",
    "\n",
    "\n",
    "# Bias\n",
    "bias_in = np.array([1 , 1])\n"
   ]
  },
  {
   "cell_type": "code",
   "execution_count": 4,
   "metadata": {},
   "outputs": [],
   "source": [
    "# Initialization of weights ( output layer)\n",
    "\n",
    "wjk = ( b - a ) * np.random.random_sample((3,1)) + a\n",
    "\n",
    "# Bias\n",
    "bias_out = np.array([1])"
   ]
  },
  {
   "cell_type": "code",
   "execution_count": 10,
   "metadata": {},
   "outputs": [],
   "source": []
  },
  {
   "cell_type": "code",
   "execution_count": 12,
   "metadata": {},
   "outputs": [],
   "source": [
    "def sigmoid(mat):\n",
    "    return ((1.0) / (1 + np.exp(-mat)))"
   ]
  },
  {
   "cell_type": "code",
   "execution_count": null,
   "metadata": {},
   "outputs": [],
   "source": []
  },
  {
   "cell_type": "code",
   "execution_count": 16,
   "metadata": {},
   "outputs": [],
   "source": [
    "def display(itr):\n",
    "    print(f'\\n----------Iteration {itr + 1} -----------------------\\n')\n",
    "    print(f' Wij_1 :  \\n{wij_1}')\n",
    "    print(f' Wij_2 :  \\n{wij_2}')\n",
    "    print(f'Bias in : \\n{bias_in}')\n",
    "\n",
    "    print(f' Wjk :  \\n{wjk}')\n",
    "    print(f'Bias out : \\n{bias_out}')\n",
    "    \n",
    "    print('-------------------------------------------')\n"
   ]
  },
  {
   "cell_type": "code",
   "execution_count": 17,
   "metadata": {},
   "outputs": [
    {
     "name": "stdout",
     "output_type": "stream",
     "text": [
      "\n",
      "----------Iteration 1 -----------------------\n",
      "\n",
      " Wij_1 :  \n",
      "[[-0.06775801]\n",
      " [-0.28125456]\n",
      " [-0.18924275]]\n",
      " Wij_2 :  \n",
      "[[ 0.27202724]\n",
      " [ 0.08826711]\n",
      " [-0.0664533 ]]\n",
      "Bias in : \n",
      "[1 1]\n",
      " Wjk :  \n",
      "[[ 0.04926949]\n",
      " [ 0.10049503]\n",
      " [-0.04036475]]\n",
      "Bias out : \n",
      "[1]\n",
      "-------------------------------------------\n"
     ]
    }
   ],
   "source": [
    "display(0)"
   ]
  },
  {
   "cell_type": "code",
   "execution_count": 18,
   "metadata": {},
   "outputs": [
    {
     "name": "stdout",
     "output_type": "stream",
     "text": [
      "------------Epoch: 1-------------\n"
     ]
    },
    {
     "ename": "NameError",
     "evalue": "name 'xin' is not defined",
     "output_type": "error",
     "traceback": [
      "\u001b[0;31m---------------------------------------------------------------------------\u001b[0m",
      "\u001b[0;31mNameError\u001b[0m                                 Traceback (most recent call last)",
      "\u001b[0;32m<ipython-input-18-c39da66e3b07>\u001b[0m in \u001b[0;36m<module>\u001b[0;34m\u001b[0m\n\u001b[1;32m     39\u001b[0m \u001b[0;34m\u001b[0m\u001b[0m\n\u001b[1;32m     40\u001b[0m         \u001b[0;31m#del_Wij\u001b[0m\u001b[0;34m\u001b[0m\u001b[0;34m\u001b[0m\u001b[0;34m\u001b[0m\u001b[0m\n\u001b[0;32m---> 41\u001b[0;31m         \u001b[0mdel_wij\u001b[0m \u001b[0;34m=\u001b[0m \u001b[0malpha\u001b[0m \u001b[0;34m*\u001b[0m \u001b[0;34m(\u001b[0m\u001b[0mdel_j\u001b[0m \u001b[0;34m*\u001b[0m \u001b[0mxin\u001b[0m\u001b[0;34m)\u001b[0m\u001b[0;34m\u001b[0m\u001b[0;34m\u001b[0m\u001b[0m\n\u001b[0m\u001b[1;32m     42\u001b[0m \u001b[0;34m\u001b[0m\u001b[0m\n\u001b[1;32m     43\u001b[0m         \u001b[0;31m# Update\u001b[0m\u001b[0;34m\u001b[0m\u001b[0;34m\u001b[0m\u001b[0;34m\u001b[0m\u001b[0m\n",
      "\u001b[0;31mNameError\u001b[0m: name 'xin' is not defined"
     ]
    }
   ],
   "source": [
    "# Change the range\n",
    "for epo in range(epoch):\n",
    "    print(f'------------Epoch: {epo + 1}-------------')\n",
    "    for i in range(x.shape[0]):\n",
    "\n",
    "        # Required output\n",
    "        tk = y[i]\n",
    "\n",
    "        # Preparing for input\n",
    "        xin_1 = np.array([[bias_in[0], x[i][0], x[i][1]]])\n",
    "        xin_1 = xin_1.transpose()\n",
    "\n",
    "        xin_2 = np.array([[bias_in[1], x[i][0], x[i][1]]])\n",
    "        xin_2 = xin_2.transpose()\n",
    "\n",
    "        # Zin_j\n",
    "        Zin_1 = (wij_1.transpose()) @ xin_1\n",
    "        Zin_2 = (wij_2.transpose()) @ xin_2\n",
    "\n",
    "        # Get Zj\n",
    "        Z = np.array([Zin_1[0], Zin_2[0]])\n",
    "        Zj = sigmoid(Z)\n",
    "        Zin = np.array([[bias_out[0], Zj[0][0], Zj[1][0]]]) \n",
    "        Zin = Zin.transpose() # For input into output neuron\n",
    "\n",
    "        # Yin_k\n",
    "        yin_k = (wjk.transpose()) @ Zin\n",
    "        yk = sigmoid(yin_k)\n",
    "\n",
    "        # del_k\n",
    "        del_k = (tk - yk) * yk * (1 - yk)\n",
    "\n",
    "        # del_wjk\n",
    "        del_wjk = alpha * del_k * Zin\n",
    "\n",
    "        # del_in_j\n",
    "        del_inj = del_k * wjk\n",
    "        del_j = del_inj * Zin * ( 1 - Zin)\n",
    "\n",
    "        #del_Wij\n",
    "        del_wij = alpha * (del_j * xin)\n",
    "\n",
    "        # Update\n",
    "        wij_1 = wij_1 + del_wij\n",
    "        wij_2 = wij_2 + del_wij\n",
    "\n",
    "        wjk = wjk + del_wjk\n",
    "        \n",
    "        display()\n",
    "\n"
   ]
  },
  {
   "cell_type": "code",
   "execution_count": 9,
   "metadata": {},
   "outputs": [
    {
     "data": {
      "text/plain": [
       "array([ 2.71828183,  7.3890561 , 20.08553692])"
      ]
     },
     "execution_count": 9,
     "metadata": {},
     "output_type": "execute_result"
    }
   ],
   "source": [
    "arr1 = [1,2,3]\n",
    "np.exp(arr1)"
   ]
  },
  {
   "cell_type": "code",
   "execution_count": null,
   "metadata": {},
   "outputs": [],
   "source": []
  },
  {
   "cell_type": "code",
   "execution_count": null,
   "metadata": {},
   "outputs": [],
   "source": []
  },
  {
   "cell_type": "code",
   "execution_count": null,
   "metadata": {},
   "outputs": [],
   "source": []
  },
  {
   "cell_type": "code",
   "execution_count": null,
   "metadata": {},
   "outputs": [],
   "source": []
  },
  {
   "cell_type": "code",
   "execution_count": null,
   "metadata": {},
   "outputs": [],
   "source": []
  },
  {
   "cell_type": "code",
   "execution_count": null,
   "metadata": {},
   "outputs": [],
   "source": []
  },
  {
   "cell_type": "code",
   "execution_count": null,
   "metadata": {},
   "outputs": [],
   "source": []
  }
 ],
 "metadata": {
  "kernelspec": {
   "display_name": "Python 3",
   "language": "python",
   "name": "python3"
  },
  "language_info": {
   "codemirror_mode": {
    "name": "ipython",
    "version": 3
   },
   "file_extension": ".py",
   "mimetype": "text/x-python",
   "name": "python",
   "nbconvert_exporter": "python",
   "pygments_lexer": "ipython3",
   "version": "3.8.5"
  }
 },
 "nbformat": 4,
 "nbformat_minor": 4
}
