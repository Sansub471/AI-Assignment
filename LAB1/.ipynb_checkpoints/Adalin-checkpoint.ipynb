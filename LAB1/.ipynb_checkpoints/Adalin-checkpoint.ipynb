{
 "cells": [
  {
   "cell_type": "code",
   "execution_count": 11,
   "metadata": {},
   "outputs": [],
   "source": [
    "import numpy as np\n",
    "from matplotlib import pyplot as plt\n",
    "\n",
    "# AND Gate \n",
    "# possible combinations\n",
    "features = np.array(\n",
    "    [\n",
    "        [-1, -1],\n",
    "        [-1, 1],\n",
    "        [1, -1],\n",
    "        [1, 1]\n",
    "    ])\n",
    "# target output\n",
    "target = np.array([-1, 1, 1, 1])\n",
    "  \n",
    "  \n",
    "# initialise weights, bias , learning rate, epoch\n",
    "weight = [0.2, 0.3] # w1 w2\n",
    "bias = 1 # b\n",
    "alpha = 0.01 # alpha\n",
    "epoch = 100\n",
    "\n",
    "weight_tolerance = 0.03 # If weight change is less than this, algorithm terminates.\n",
    "weight_change = []"
   ]
  },
  {
   "cell_type": "code",
   "execution_count": 12,
   "metadata": {},
   "outputs": [],
   "source": [
    "\n",
    "for i in range(epoch):\n",
    "    \n",
    "    training_set_weight_change = []\n",
    "    # for each of the possible input given in the features\n",
    "    for j in range(features.shape[0]):\n",
    "  \n",
    "        # actual output to be obtained\n",
    "        actual = target[j]\n",
    "  \n",
    "        # the value of two features as given in the features array\n",
    "        x1 = features[j][0]\n",
    "        x2 = features[j][1]\n",
    "  \n",
    "        # Yin\n",
    "        yin = (x1 * weight[0]) + (x2 * weight[1]) + bias\n",
    "        \n",
    "        # ( t - Yin)\n",
    "        error = actual - yin\n",
    "        delW1 = x1 * alpha * error\n",
    "        delW2 = x2 * alpha * error\n",
    "        deltaW = max(delW1, delW2)\n",
    "        training_set_weight_change.append(deltaW)\n",
    "        \n",
    "  \n",
    "        # update weights\n",
    "        weight[0] += delW1\n",
    "        weight[1] += delW2\n",
    "        \n",
    "\n",
    "        # update bias       \n",
    "        bias += alpha * error\n",
    "\n",
    "    \n",
    "    if max(training_set_weight_change) < weight_tolerance:\n",
    "        break\n"
   ]
  },
  {
   "cell_type": "code",
   "execution_count": 13,
   "metadata": {},
   "outputs": [
    {
     "data": {
      "text/plain": [
       "4"
      ]
     },
     "execution_count": 13,
     "metadata": {},
     "output_type": "execute_result"
    }
   ],
   "source": [
    "m = [1, 2, 3, 4]\n",
    "max(m)"
   ]
  },
  {
   "cell_type": "code",
   "execution_count": null,
   "metadata": {},
   "outputs": [],
   "source": []
  }
 ],
 "metadata": {
  "kernelspec": {
   "display_name": "Python 3",
   "language": "python",
   "name": "python3"
  },
  "language_info": {
   "codemirror_mode": {
    "name": "ipython",
    "version": 3
   },
   "file_extension": ".py",
   "mimetype": "text/x-python",
   "name": "python",
   "nbconvert_exporter": "python",
   "pygments_lexer": "ipython3",
   "version": "3.8.5"
  }
 },
 "nbformat": 4,
 "nbformat_minor": 4
}
