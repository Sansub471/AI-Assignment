{
 "cells": [
  {
   "cell_type": "code",
   "execution_count": 137,
   "metadata": {},
   "outputs": [],
   "source": [
    "import numpy as np\n",
    "from matplotlib import pyplot as plt\n",
    "\n",
    "# AND Gate \n",
    "# possible combinations\n",
    "features = np.array(\n",
    "    [\n",
    "        [-1, -1],\n",
    "        [-1, 1],\n",
    "        [1, -1],\n",
    "        [1, 1]\n",
    "    ])\n",
    "# target output\n",
    "target = np.array([-1, -1, -1, 1])\n",
    "  \n",
    "# initialise weights, bias , learning rate, epoch\n",
    "weight = [-0.2, 0.3] # w1 w2\n",
    "bias = 1 # b\n",
    "alpha = 0.01 # alpha\n",
    "epoch = 1000\n",
    "\n",
    "weight_tolerance = 0.008 # If weight change is less than this, algorithm terminates.\n",
    "weight_change = []"
   ]
  },
  {
   "cell_type": "code",
   "execution_count": 138,
   "metadata": {},
   "outputs": [],
   "source": [
    "def display(num):\n",
    "    print(f'----------Epoch : {num} ------------------------')\n",
    "    print(f'Weight [w1, w1] : {weight}')\n",
    "    print(f'Bias : {bias}')"
   ]
  },
  {
   "cell_type": "code",
   "execution_count": 139,
   "metadata": {},
   "outputs": [
    {
     "name": "stdout",
     "output_type": "stream",
     "text": [
      "Initialized values\n",
      "----------Epoch : 0 ------------------------\n",
      "Weight [w1, w1] : [-0.2, 0.3]\n",
      "Bias : 1\n"
     ]
    }
   ],
   "source": [
    "print(\"Initialized values\")\n",
    "display(0)"
   ]
  },
  {
   "cell_type": "code",
   "execution_count": 140,
   "metadata": {},
   "outputs": [
    {
     "name": "stdout",
     "output_type": "stream",
     "text": [
      "----------Epoch : 1 ------------------------\n",
      "Weight [w1, w1] : [-0.17203941900000003, 0.308456781]\n",
      "Bias : 0.9403405810000001\n",
      "----------Epoch : 2 ------------------------\n",
      "Weight [w1, w1] : [-0.1451916512494702, 0.3165652602602918]\n",
      "Bias : 0.8830539333943299\n",
      "----------Epoch : 3 ------------------------\n",
      "Weight [w1, w1] : [-0.11941240751602401, 0.32433976634167955]\n",
      "Bias : 0.8280456898069007\n",
      "----------Epoch : 4 ------------------------\n",
      "Weight [w1, w1] : [-0.09465916124853688, 0.33179403899092946]\n",
      "Bias : 0.7752252358476671\n",
      "----------Epoch : 5 ------------------------\n",
      "Weight [w1, w1] : [-0.0708910784236707, 0.33894125331271824]\n",
      "Bias : 0.7245055608603063\n",
      "----------Epoch : 6 ------------------------\n",
      "Weight [w1, w1] : [-0.04806895018445585, 0.3457940429502249]\n",
      "Bias : 0.6758031146053562\n",
      "----------Epoch : 7 ------------------------\n",
      "Weight [w1, w1] : [-0.02615512815980883, 0.35236452231498905]\n",
      "Bias : 0.6290376696427786\n",
      "----------Epoch : 8 ------------------------\n",
      "Weight [w1, w1] : [-0.005113462358286563, 0.35866430790499193]\n",
      "Bias : 0.5841321891872948\n",
      "----------Epoch : 9 ------------------------\n",
      "Weight [w1, w1] : [0.015090758466375618, 0.36470453874832576]\n",
      "Bias : 0.5410127002188618\n",
      "----------Epoch : 10 ------------------------\n",
      "Weight [w1, w1] : [0.03449086407631734, 0.3704958960082836]\n",
      "Bias : 0.499608171639305\n",
      "----------Epoch : 11 ------------------------\n",
      "Weight [w1, w1] : [0.05311885773165781, 0.37604862178423654]\n",
      "Bias : 0.4598503972744369\n",
      "----------Epoch : 12 ------------------------\n",
      "Weight [w1, w1] : [0.07100546898435223, 0.3813725371412577]\n",
      "Bias : 0.42167388352897184\n",
      "----------Epoch : 13 ------------------------\n",
      "Weight [w1, w1] : [0.08818020437089051, 0.38647705940010213]\n",
      "Bias : 0.385015741509206\n",
      "----------Epoch : 14 ------------------------\n",
      "Weight [w1, w1] : [0.10467139608746309, 0.39137121871785846]\n",
      "Bias : 0.34981558343579355\n",
      "----------Epoch : 15 ------------------------\n",
      "Weight [w1, w1] : [0.1205062487278898, 0.39606367398834535]\n",
      "Bias : 0.31601542317601317\n",
      "----------Epoch : 16 ------------------------\n",
      "Weight [w1, w1] : [0.13571088416141275, 0.4005627280901365]\n",
      "Bias : 0.2835595807317031\n",
      "----------Epoch : 17 ------------------------\n",
      "Weight [w1, w1] : [0.150310384624385, 0.40487634250895493]\n",
      "Bias : 0.2523945905255598\n",
      "----------Epoch : 18 ------------------------\n",
      "Weight [w1, w1] : [0.16432883409694085, 0.4090121513600832]\n",
      "Bias : 0.2224691133347471\n",
      "----------Epoch : 19 ------------------------\n",
      "Weight [w1, w1] : [0.17778935803290405, 0.4129774748353845]\n",
      "Bias : 0.19373385172677357\n",
      "----------Epoch : 20 ------------------------\n",
      "Weight [w1, w1] : [0.19071416150847395, 0.41677933209852336]\n",
      "Bias : 0.16614146885836037\n",
      "----------Epoch : 21 ------------------------\n",
      "Weight [w1, w1] : [0.20312456585262115, 0.4204244536510078]\n",
      "Bias : 0.13964651050356233\n",
      "----------Epoch : 22 ------------------------\n",
      "Weight [w1, w1] : [0.21504104381961922, 0.4239192931907488]\n",
      "Bias : 0.11420533018272275\n",
      "----------Epoch : 23 ------------------------\n",
      "Weight [w1, w1] : [0.22648325336173483, 0.4272700389839436]\n",
      "Bias : 0.08977601726894868\n",
      "----------Epoch : 24 ------------------------\n",
      "Weight [w1, w1] : [0.23747007005778853, 0.43048262477023724]\n",
      "Bias : 0.06631832795369846\n",
      "----------Epoch : 25 ------------------------\n",
      "Weight [w1, w1] : [0.2480196182510817, 0.4335627402202995]\n",
      "Bias : 0.04379361895778043\n",
      "----------Epoch : 26 ------------------------\n",
      "Weight [w1, w1] : [0.2581493009480565, 0.43651584096417007]\n",
      "Bias : 0.02216478387858454\n",
      "----------Epoch : 27 ------------------------\n",
      "Weight [w1, w1] : [0.2678758285270093, 0.4393471582079734]\n",
      "Bias : 0.0013961920687095477\n",
      "----------Epoch : 28 ------------------------\n",
      "Weight [w1, w1] : [0.2772152463042187, 0.44206170795588345]\n",
      "Bias : -0.018546370054682324\n",
      "----------Epoch : 29 ------------------------\n",
      "Weight [w1, w1] : [0.2861829610029599, 0.4446642998535261]\n",
      "Bias : -0.037695755366447994\n",
      "----------Epoch : 30 ------------------------\n",
      "Weight [w1, w1] : [0.294793766169072, 0.4471595456683448]\n",
      "Bias : -0.0560835101488042\n",
      "----------Epoch : 31 ------------------------\n",
      "Weight [w1, w1] : [0.3030618665750025, 0.4495518674218185]\n",
      "Bias : -0.0737399260545559\n",
      "----------Epoch : 32 ------------------------\n",
      "Weight [w1, w1] : [0.31100090165258887, 0.4518455051878108]\n",
      "Bias : -0.0906940900037975\n",
      "----------Epoch : 33 ------------------------\n",
      "Weight [w1, w1] : [0.31862396799323117, 0.4540445245707443]\n",
      "Bias : -0.10697393209626858\n",
      "----------Epoch : 34 ------------------------\n",
      "Weight [w1, w1] : [0.325943640952574, 0.4561528238767321]\n",
      "Bias : -0.12260627161827786\n",
      "----------Epoch : 35 ------------------------\n",
      "Weight [w1, w1] : [0.3329719953953367, 0.45817414099026255]\n",
      "Bias : -0.13761686121997063\n",
      "----------Epoch : 36 ------------------------\n",
      "Weight [w1, w1] : [0.3397206256145142, 0.4601120599685133]\n",
      "Bias : -0.1520304293357019\n",
      "----------Epoch : 37 ------------------------\n",
      "Weight [w1, w1] : [0.3462006644578076, 0.46197001736488025]\n",
      "Bias : -0.1658707209173836\n",
      "----------Epoch : 38 ------------------------\n",
      "Weight [w1, w1] : [0.35242280169283563, 0.46375130829282873]\n",
      "Bias : -0.17916053654789596\n",
      "----------Epoch : 39 ------------------------\n",
      "Weight [w1, w1] : [0.35839730164142375, 0.4654590922407207]\n",
      "Bias : -0.1919217699989852\n",
      "----------Epoch : 40 ------------------------\n",
      "Weight [w1, w1] : [0.3641340201120612, 0.4670963986478341]\n",
      "Bias : -0.2041754442955076\n",
      "----------Epoch : 41 ------------------------\n",
      "Weight [w1, w1] : [0.36964242065845704, 0.4686661322513732]\n",
      "Bias : -0.21594174634542002\n",
      "----------Epoch : 42 ------------------------\n",
      "Weight [w1, w1] : [0.3749315901910179, 0.4701710782138655]\n",
      "Bias : -0.22724006019255508\n",
      "----------Epoch : 43 ------------------------\n",
      "Weight [w1, w1] : [0.38001025396699906, 0.47161390703995604]\n",
      "Bias : -0.23808899894695046\n",
      "----------Epoch : 44 ------------------------\n",
      "Weight [w1, w1] : [0.3848867899840582, 0.47299717929124196]\n",
      "Bias : -0.24850643544532416\n",
      "----------Epoch : 45 ------------------------\n",
      "Weight [w1, w1] : [0.38956924280095534, 0.47432335010743354]\n",
      "Bias : -0.2585095316921958\n",
      "----------Epoch : 46 ------------------------\n",
      "Weight [w1, w1] : [0.3940653368081987, 0.4755947735417899]\n",
      "Bias : -0.2681147671301465\n",
      "----------Epoch : 47 ------------------------\n",
      "Weight [w1, w1] : [0.39838248897052825, 0.47681370671845147]\n",
      "Bias : -0.2773379657857792\n",
      "----------Epoch : 48 ------------------------\n",
      "Weight [w1, w1] : [0.4025278210622563, 0.47798231381897793]\n",
      "Bias : -0.28619432233609376\n",
      "----------Epoch : 49 ------------------------\n",
      "Weight [w1, w1] : [0.40650817141565077, 0.47910266990510203]\n",
      "Bias : -0.2946984271382089\n"
     ]
    }
   ],
   "source": [
    "for i in range(epoch):\n",
    "    \n",
    "    training_set_weight_change = []\n",
    "    # for each of the possible input given in the features\n",
    "    for j in range(features.shape[0]):\n",
    "  \n",
    "        # actual output to be obtained\n",
    "        actual = target[j]\n",
    "  \n",
    "        # the value of two features as given in the features array\n",
    "        x1 = features[j][0]\n",
    "        x2 = features[j][1]\n",
    "  \n",
    "        # Yin\n",
    "        yin = (x1 * weight[0]) + (x2 * weight[1]) + bias\n",
    "        \n",
    "        # ( t - Yin)\n",
    "        error = actual - yin\n",
    "        \n",
    "        delW1 = x1 * alpha * error\n",
    "        delW2 = x2 * alpha * error\n",
    "        deltaW = max(delW1, delW2)\n",
    "        training_set_weight_change.append(deltaW)\n",
    "        \n",
    "  \n",
    "        # update weights\n",
    "        weight[0] += delW1\n",
    "        weight[1] += delW2\n",
    "        \n",
    "\n",
    "        # update bias       \n",
    "        bias += alpha * error\n",
    "        \n",
    "    epoch_delW = max(training_set_weight_change)\n",
    "    weight_change.append(epoch_delW)\n",
    "    display(i+1)\n",
    "    \n",
    "    if epoch_delW < weight_tolerance:\n",
    "        break\n"
   ]
  },
  {
   "cell_type": "code",
   "execution_count": 141,
   "metadata": {},
   "outputs": [
    {
     "data": {
      "text/plain": [
       "0.007909272149928011"
      ]
     },
     "execution_count": 141,
     "metadata": {},
     "output_type": "execute_result"
    }
   ],
   "source": [
    "min(weight_change)"
   ]
  },
  {
   "cell_type": "code",
   "execution_count": 142,
   "metadata": {},
   "outputs": [
    {
     "data": {
      "image/png": "[encoded data removed]",
      "text/plain": [
       "<Figure size 432x288 with 1 Axes>"
      ]
     },
     "metadata": {
      "needs_background": "light"
     },
     "output_type": "display_data"
    }
   ],
   "source": [
    "\n",
    "plt.plot(weight_change)\n",
    "plt.xlabel('No. of epoch')\n",
    "plt.ylabel('Weight Change')\n",
    "plt.title('Adaptive Linear Neuron - Learning Rate ' + str(alpha))\n",
    "plt.show()"
   ]
  },
  {
   "cell_type": "code",
   "execution_count": 143,
   "metadata": {},
   "outputs": [
    {
     "data": {
      "text/plain": [
       "49"
      ]
     },
     "execution_count": 143,
     "metadata": {},
     "output_type": "execute_result"
    }
   ],
   "source": [
    "len(weight_change)"
   ]
  },
  {
   "cell_type": "code",
   "execution_count": 144,
   "metadata": {},
   "outputs": [
    {
     "name": "stdout",
     "output_type": "stream",
     "text": [
      "-1   -1   False\n",
      "-1   1   False\n",
      "1   -1   False\n",
      "1   1   True\n"
     ]
    }
   ],
   "source": [
    "# Prediction OR Gate\n",
    "for j in range(features.shape[0]):\n",
    "    x1 = features[j][0]\n",
    "    x2 = features[j][1]\n",
    "    \n",
    "    unit = (x1 * weight[0]) + (x2 * weight[1]) + bias\n",
    "    print(x1, ' ' , x2, ' ', unit>0)"
   ]
  },
  {
   "cell_type": "code",
   "execution_count": null,
   "metadata": {},
   "outputs": [],
   "source": []
  }
 ],
 "metadata": {
  "kernelspec": {
   "display_name": "Python 3",
   "language": "python",
   "name": "python3"
  },
  "language_info": {
   "codemirror_mode": {
    "name": "ipython",
    "version": 3
   },
   "file_extension": ".py",
   "mimetype": "text/x-python",
   "name": "python",
   "nbconvert_exporter": "python",
   "pygments_lexer": "ipython3",
   "version": "3.8.5"
  }
 },
 "nbformat": 4,
 "nbformat_minor": 4
}
