{
 "cells": [
  {
   "cell_type": "code",
   "execution_count": 1,
   "metadata": {},
   "outputs": [],
   "source": [
    "import numpy as np"
   ]
  },
  {
   "cell_type": "code",
   "execution_count": 15,
   "metadata": {},
   "outputs": [],
   "source": [
    "# Features\n",
    "x = np.array([\n",
    "    [-1, -1],\n",
    "    [-1, 1],\n",
    "    [1, -1],\n",
    "    [1, 1]\n",
    "])\n",
    "\n",
    "# Target\n",
    "y = np.array([-1, 1, 1, -1])\n",
    "alpha = 0.01\n",
    "epoch = 1"
   ]
  },
  {
   "cell_type": "code",
   "execution_count": 11,
   "metadata": {},
   "outputs": [],
   "source": [
    "# Initialization of weights (input layer)\n",
    "a = -0.5\n",
    "b = 0.5\n",
    "wij_1 = (b - a) * np.random.random_sample((3,1)) + a\n",
    "wij_2 = (b - a) * np.random.random_sample((3,1)) + a\n",
    "\n",
    "# Bias\n",
    "bias_in = np.array([1 , 1])\n"
   ]
  },
  {
   "cell_type": "code",
   "execution_count": 13,
   "metadata": {},
   "outputs": [],
   "source": [
    "# Initialization of weights ( output layer)\n",
    "\n",
    "wjk = ( b - a ) * np.random.random_sample((3,1)) + a\n",
    "\n",
    "# Bias\n",
    "bias_out = np.array([1])"
   ]
  },
  {
   "cell_type": "code",
   "execution_count": 14,
   "metadata": {},
   "outputs": [],
   "source": [
    "import math as mt\n",
    "def sigmoid( mat):\n",
    "    temp = mat.copy()\n",
    "    for i in range(mat.shape[0]):\n",
    "        for j in range(mat.shape[1]):\n",
    "            temp[i][j] = 1.0 / ( 1 + mt.exp(-mat[i][j]))\n",
    "    \n",
    "    return temp"
   ]
  },
  {
   "cell_type": "code",
   "execution_count": 143,
   "metadata": {},
   "outputs": [],
   "source": [
    "def display(itr):\n",
    "    print(f'\\n----------Iteration {itr + 1} -----------------------\\n')\n",
    "    print(f' Wij_1 :  \\n{wij_1}')\n",
    "    print(f' Wij_2 :  \\n{wij_2}')\n",
    "    print(f'Bias in : \\n{bias_in}')\n",
    "\n",
    "    print(f' Wjk :  \\n{wjk}')\n",
    "    print(f'Bias out : \\n{bias_out}')\n",
    "    \n",
    "    print('-------------------------------------------')\n"
   ]
  },
  {
   "cell_type": "code",
   "execution_count": 144,
   "metadata": {},
   "outputs": [
    {
     "name": "stdout",
     "output_type": "stream",
     "text": [
      "\n",
      "----------Epoch 0 -----------------------\n",
      "\n",
      " Wij_1 :  \n",
      "[[ 0.44695317]\n",
      " [-0.19077936]\n",
      " [-0.00203458]]\n",
      " Wij_2 :  \n",
      "[[-0.02239536]\n",
      " [-0.08811389]\n",
      " [ 0.12535028]]\n",
      "Bias in : \n",
      "[1 1]\n",
      " Wjk :  \n",
      "[[0.47923513]\n",
      " [0.20062644]\n",
      " [0.34373349]]\n",
      "Bias out : \n",
      "[1]\n",
      "-------------------------------------------\n"
     ]
    }
   ],
   "source": [
    "display(0)"
   ]
  },
  {
   "cell_type": "code",
   "execution_count": 129,
   "metadata": {},
   "outputs": [],
   "source": [
    "# Change the range\n",
    "for epo in range(epoch):\n",
    "    print(f'------------Epoch: {epo + 1}-------------')\n",
    "    for i in range(x.shape[0]):\n",
    "\n",
    "        # Required output\n",
    "        tk = y[i]\n",
    "\n",
    "        # Preparing for input\n",
    "        xin_1 = np.array([[bias_in[0], x[i][0], x[i][1]]])\n",
    "        xin_1 = xin_1.transpose()\n",
    "\n",
    "        xin_2 = np.array([[bias_in[1], x[i][0], x[i][1]]])\n",
    "        xin_2 = xin_2.transpose()\n",
    "\n",
    "        # Zin_j\n",
    "        Zin_1 = (wij_1.transpose()) @ xin_1\n",
    "        Zin_2 = (wij_2.transpose()) @ xin_2\n",
    "\n",
    "        # Get Zj\n",
    "        Z = np.array([Zin_1[0], Zin_2[0]])\n",
    "        Zj = sigmoid(Z)\n",
    "        Zin = np.array([[bias_out[0], Zj[0][0], Zj[1][0]]]) \n",
    "        Zin = Zin.transpose() # For input into output neuron\n",
    "\n",
    "        # Yin_k\n",
    "        yin_k = (wjk.transpose()) @ Zin\n",
    "        yk = sigmoid(yin_k)\n",
    "\n",
    "        # del_k\n",
    "        del_k = (tk - yk) * yk * (1 - yk)\n",
    "\n",
    "        # del_wjk\n",
    "        del_wjk = alpha * del_k * Zin\n",
    "\n",
    "        # del_in_j\n",
    "        del_inj = del_k * wjk\n",
    "        del_j = del_inj * Zin * ( 1 - Zin)\n",
    "\n",
    "        #del_Wij\n",
    "        del_wij = alpha * (del_j * xin)\n",
    "\n",
    "        # Update\n",
    "        wij_1 = wij_1 + del_wij\n",
    "        wij_2 = wij_2 + del_wij\n",
    "\n",
    "        wjk = wjk + del_wjk\n",
    "        \n",
    "        display()\n",
    "\n"
   ]
  },
  {
   "cell_type": "code",
   "execution_count": null,
   "metadata": {},
   "outputs": [],
   "source": []
  },
  {
   "cell_type": "code",
   "execution_count": null,
   "metadata": {},
   "outputs": [],
   "source": []
  },
  {
   "cell_type": "code",
   "execution_count": null,
   "metadata": {},
   "outputs": [],
   "source": []
  },
  {
   "cell_type": "code",
   "execution_count": null,
   "metadata": {},
   "outputs": [],
   "source": []
  },
  {
   "cell_type": "code",
   "execution_count": null,
   "metadata": {},
   "outputs": [],
   "source": []
  },
  {
   "cell_type": "code",
   "execution_count": null,
   "metadata": {},
   "outputs": [],
   "source": []
  },
  {
   "cell_type": "code",
   "execution_count": null,
   "metadata": {},
   "outputs": [],
   "source": []
  },
  {
   "cell_type": "code",
   "execution_count": null,
   "metadata": {},
   "outputs": [],
   "source": []
  }
 ],
 "metadata": {
  "kernelspec": {
   "display_name": "Python 3",
   "language": "python",
   "name": "python3"
  },
  "language_info": {
   "codemirror_mode": {
    "name": "ipython",
    "version": 3
   },
   "file_extension": ".py",
   "mimetype": "text/x-python",
   "name": "python",
   "nbconvert_exporter": "python",
   "pygments_lexer": "ipython3",
   "version": "3.8.5"
  }
 },
 "nbformat": 4,
 "nbformat_minor": 4
}
